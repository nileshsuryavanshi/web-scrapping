{
 "cells": [
  {
   "cell_type": "markdown",
   "metadata": {},
   "source": [
    "## **Scrapping books data from Flipkart**\n",
    "In this notebook, we wiil scrap books data from flipkart, for this purpose we will go through around 20 pages of this website."
   ]
  },
  {
   "cell_type": "code",
   "execution_count": 64,
   "metadata": {},
   "outputs": [],
   "source": [
    "# importing libraries\n",
    "from bs4 import BeautifulSoup\n",
    "import requests\n",
    "import pandas as pd\n",
    "\n",
    "# lists to store various variables\n",
    "title = []\n",
    "reviews = []\n",
    "rating = []\n",
    "price = []\n",
    "detail = []\n",
    "\n",
    "# iterating over each page and finding content\n",
    "base_url = 'https://www.flipkart.com/books/fiction-books/pr?sid=bks%2Cwbi&q=books&otracker=categorytree&page='\n",
    "for p in range(2,21):\n",
    "    url = base_url+str(p)\n",
    "    req = requests.get(url)\n",
    "    cont_req = req.content\n",
    "    b_soup = BeautifulSoup(cont_req, 'html.parser')\n",
    "    \n",
    "    for val in b_soup.find_all('div', class_='_4ddWXP'):\n",
    "        try:\n",
    "            title.append(val.find('a', class_=\"s1Q9rs\").get('title'))\n",
    "        except:\n",
    "            title.append(None)\n",
    "        try:\n",
    "            reviews.append(val.find('span', class_=\"_2_R_DZ\").get_text())\n",
    "        except:\n",
    "            reviews.append(None)\n",
    "        try:    \n",
    "            rating.append(val.find('div', class_=\"_3LWZlK\").get_text())\n",
    "        except:\n",
    "            rating.append(None)\n",
    "        try:    \n",
    "            price.append(val.find('div', class_=\"_30jeq3\").get_text())\n",
    "        except:\n",
    "            price.append(None)\n",
    "        try:    \n",
    "            detail.append(val.find('div', class_=\"_3Djpdu\").get_text())    \n",
    "        except:\n",
    "            detail.append(None)\n",
    "\n",
    "# making dataframe            \n",
    "fk_books = pd.DataFrame({\n",
    "    'title':title, 'reviews':reviews, 'rating':rating, 'price':price, 'detail':detail\n",
    "})\n",
    "\n",
    "# making csv file to store data\n",
    "fk_books.to_csv('flipkart_books_data.csv')"
   ]
  },
  {
   "cell_type": "code",
   "execution_count": 65,
   "metadata": {},
   "outputs": [
    {
     "data": {
      "text/html": [
       "<div>\n",
       "<style scoped>\n",
       "    .dataframe tbody tr th:only-of-type {\n",
       "        vertical-align: middle;\n",
       "    }\n",
       "\n",
       "    .dataframe tbody tr th {\n",
       "        vertical-align: top;\n",
       "    }\n",
       "\n",
       "    .dataframe thead th {\n",
       "        text-align: right;\n",
       "    }\n",
       "</style>\n",
       "<table border=\"1\" class=\"dataframe\">\n",
       "  <thead>\n",
       "    <tr style=\"text-align: right;\">\n",
       "      <th></th>\n",
       "      <th>title</th>\n",
       "      <th>reviews</th>\n",
       "      <th>rating</th>\n",
       "      <th>price</th>\n",
       "      <th>detail</th>\n",
       "    </tr>\n",
       "  </thead>\n",
       "  <tbody>\n",
       "    <tr>\n",
       "      <th>0</th>\n",
       "      <td>Aatujeevitham</td>\n",
       "      <td>(1,512)</td>\n",
       "      <td>4.6</td>\n",
       "      <td>₹223</td>\n",
       "      <td>Malayalam, Paperback, Shereef K.</td>\n",
       "    </tr>\n",
       "    <tr>\n",
       "      <th>1</th>\n",
       "      <td>The Room on the Roof</td>\n",
       "      <td>(1,651)</td>\n",
       "      <td>4.6</td>\n",
       "      <td>₹144</td>\n",
       "      <td>English, Paperback, Bond Ruskin</td>\n",
       "    </tr>\n",
       "    <tr>\n",
       "      <th>2</th>\n",
       "      <td>Jeevan Ke Adbhut Rahasya</td>\n",
       "      <td>(2,695)</td>\n",
       "      <td>4.5</td>\n",
       "      <td>₹143</td>\n",
       "      <td>Hindi, Paperback, Das Gaur Gopal</td>\n",
       "    </tr>\n",
       "    <tr>\n",
       "      <th>3</th>\n",
       "      <td>Whispers of Hate</td>\n",
       "      <td>(238)</td>\n",
       "      <td>4.5</td>\n",
       "      <td>₹189</td>\n",
       "      <td>English, Paperback, Garg Sanchit</td>\n",
       "    </tr>\n",
       "    <tr>\n",
       "      <th>4</th>\n",
       "      <td>Karmabhoomi</td>\n",
       "      <td>(183)</td>\n",
       "      <td>4.5</td>\n",
       "      <td>₹119</td>\n",
       "      <td>Hindi, Paperback, Premchand</td>\n",
       "    </tr>\n",
       "  </tbody>\n",
       "</table>\n",
       "</div>"
      ],
      "text/plain": [
       "                      title  reviews  rating price  \\\n",
       "0             Aatujeevitham  (1,512)     4.6  ₹223   \n",
       "1      The Room on the Roof  (1,651)     4.6  ₹144   \n",
       "2  Jeevan Ke Adbhut Rahasya  (2,695)     4.5  ₹143   \n",
       "3          Whispers of Hate    (238)     4.5  ₹189   \n",
       "4               Karmabhoomi    (183)     4.5  ₹119   \n",
       "\n",
       "                             detail  \n",
       "0  Malayalam, Paperback, Shereef K.  \n",
       "1   English, Paperback, Bond Ruskin  \n",
       "2  Hindi, Paperback, Das Gaur Gopal  \n",
       "3  English, Paperback, Garg Sanchit  \n",
       "4       Hindi, Paperback, Premchand  "
      ]
     },
     "execution_count": 65,
     "metadata": {},
     "output_type": "execute_result"
    }
   ],
   "source": [
    "df = pd.read_csv('flipkart_books_data.csv')\n",
    "df.drop('Unnamed: 0', axis=1, inplace=True)\n",
    "df.head()"
   ]
  },
  {
   "cell_type": "code",
   "execution_count": 67,
   "metadata": {},
   "outputs": [
    {
     "name": "stdout",
     "output_type": "stream",
     "text": [
      "Total number of books in the dataset are : 760\n"
     ]
    }
   ],
   "source": [
    "# total number of books\n",
    "print('Total number of books in the dataset are :', df.shape[0])"
   ]
  }
 ],
 "metadata": {
  "kernelspec": {
   "display_name": "Python 3",
   "language": "python",
   "name": "python3"
  },
  "language_info": {
   "codemirror_mode": {
    "name": "ipython",
    "version": 3
   },
   "file_extension": ".py",
   "mimetype": "text/x-python",
   "name": "python",
   "nbconvert_exporter": "python",
   "pygments_lexer": "ipython3",
   "version": "3.8.5"
  }
 },
 "nbformat": 4,
 "nbformat_minor": 4
}
