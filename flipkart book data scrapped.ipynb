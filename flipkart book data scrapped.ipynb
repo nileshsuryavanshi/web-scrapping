{
 "cells": [
  {
   "cell_type": "markdown",
   "metadata": {},
   "source": [
    "## **Scrapping books data from Flipkart**\n",
    "In this web scrapping notebook, we are going to scrap data from mulitple pages."
   ]
  },
  {
   "cell_type": "code",
   "execution_count": 64,
   "metadata": {},
   "outputs": [],
   "source": [
    "# importing libraries\n",
    "from bs4 import BeautifulSoup\n",
    "import requests\n",
    "import pandas as pd\n",
    "\n",
    "# lists to store various variables\n",
    "title = []\n",
    "reviews = []\n",
    "rating = []\n",
    "price = []\n",
    "detail = []\n",
    "\n",
    "# iterating over each page and finding content\n",
    "base_url = 'https://www.flipkart.com/books/fiction-books/pr?sid=bks%2Cwbi&q=books&otracker=categorytree&page='\n",
    "for p in range(2,21):\n",
    "    url = base_url+str(p)\n",
    "    req = requests.get(url)\n",
    "    cont_req = req.content\n",
    "    b_soup = BeautifulSoup(cont_req, 'html.parser')\n",
    "    \n",
    "    for val in b_soup.find_all('div', class_='_4ddWXP'):\n",
    "        try:\n",
    "            title.append(val.find('a', class_=\"s1Q9rs\").get('title'))\n",
    "        except:\n",
    "            title.append(None)\n",
    "        try:\n",
    "            reviews.append(val.find('span', class_=\"_2_R_DZ\").get_text())\n",
    "        except:\n",
    "            reviews.append(None)\n",
    "        try:    \n",
    "            rating.append(val.find('div', class_=\"_3LWZlK\").get_text())\n",
    "        except:\n",
    "            rating.append(None)\n",
    "        try:    \n",
    "            price.append(val.find('div', class_=\"_30jeq3\").get_text())\n",
    "        except:\n",
    "            price.append(None)\n",
    "        try:    \n",
    "            detail.append(val.find('div', class_=\"_3Djpdu\").get_text())    \n",
    "        except:\n",
    "            detail.append(None)\n",
    "\n",
    "# making dataframe            \n",
    "fk_books = pd.DataFrame({\n",
    "    'title':title, 'reviews':reviews, 'rating':rating, 'price':price, 'detail':detail\n",
    "})\n",
    "\n",
    "# making csv file to store data\n",
    "fk_books.to_csv('flipkart_books_data.csv')"
   ]
  }
 ],
 "metadata": {
  "kernelspec": {
   "display_name": "Python 3",
   "language": "python",
   "name": "python3"
  },
  "language_info": {
   "codemirror_mode": {
    "name": "ipython",
    "version": 3
   },
   "file_extension": ".py",
   "mimetype": "text/x-python",
   "name": "python",
   "nbconvert_exporter": "python",
   "pygments_lexer": "ipython3",
   "version": "3.8.5"
  }
 },
 "nbformat": 4,
 "nbformat_minor": 4
}
